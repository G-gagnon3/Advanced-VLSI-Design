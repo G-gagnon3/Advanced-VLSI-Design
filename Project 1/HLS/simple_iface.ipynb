{
 "cells": [
  {
   "cell_type": "code",
   "execution_count": 1,
   "metadata": {},
   "outputs": [],
   "source": [
    "import json\n",
    "import sv_maker\n",
    "import FIR_Direct\n",
    "import FIR_Pipeline"
   ]
  },
  {
   "cell_type": "code",
   "execution_count": 2,
   "metadata": {},
   "outputs": [],
   "source": [
    "f1 = open(\"..\\\\Matlab\\\\test.json\")\n",
    "\n",
    "gen_taps = json.loads(f1.read())\n",
    "f1.close()\n"
   ]
  },
  {
   "cell_type": "code",
   "execution_count": 3,
   "metadata": {},
   "outputs": [],
   "source": [
    "builder = sv_maker.builder()\n",
    "builder.filename = \"PipeFIR.sv\"\n",
    "builder.path = \"..\\\\HDL\\\\Filters\\\\\""
   ]
  },
  {
   "cell_type": "code",
   "execution_count": 4,
   "metadata": {},
   "outputs": [],
   "source": [
    "Direct_FIR = FIR_Pipeline.build_fir(gen_taps)\n",
    "builder.write_file(Direct_FIR)\n"
   ]
  }
 ],
 "metadata": {
  "kernelspec": {
   "display_name": "Python 3",
   "language": "python",
   "name": "python3"
  },
  "language_info": {
   "codemirror_mode": {
    "name": "ipython",
    "version": 3
   },
   "file_extension": ".py",
   "mimetype": "text/x-python",
   "name": "python",
   "nbconvert_exporter": "python",
   "pygments_lexer": "ipython3",
   "version": "3.12.2"
  }
 },
 "nbformat": 4,
 "nbformat_minor": 2
}
